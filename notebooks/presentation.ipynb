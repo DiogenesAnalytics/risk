{
 "cells": [
  {
   "cell_type": "markdown",
   "metadata": {
    "slideshow": {
     "slide_type": "slide"
    }
   },
   "source": [
    "# <center>Risk Analysis</center>\n",
    "\n",
    "_ _\n",
    "   \n",
    "## _<center>Genetic algorithms and the game of Risk</center>_\n",
    "\n",
    "_ _\n",
    "\n",
    "### <center> Rogier van der Geer </center>\n",
    "\n",
    "_ _\n",
    "\n",
    "#### <center> Data Charmer @ GoDataDriven</center> "
   ]
  },
  {
   "cell_type": "markdown",
   "metadata": {
    "slideshow": {
     "slide_type": "subslide"
    }
   },
   "source": [
    "## Overview\n",
    "\n",
    "- The game of Risk\n",
    "\n",
    "- Risk in Python\n",
    "\n",
    "- Genetic Algorithms\n",
    "\n",
    "- Using a genetic algorithm to play Risk"
   ]
  },
  {
   "cell_type": "markdown",
   "metadata": {
    "slideshow": {
     "slide_type": "slide"
    }
   },
   "source": [
    "# Risk\n",
    "\n",
    "Invented in 1957 as _The Conquest of the World,_     \n",
    "since 1959: _Risk: The Game of Global Domination._\n",
    "    \n",
    "<br>\n",
    "### According to the publishers:\n",
    "\n",
    "- _Players:_ 2-6 \n",
    "- _Playing time:_ 1-8 hours"
   ]
  },
  {
   "cell_type": "markdown",
   "metadata": {
    "slideshow": {
     "slide_type": "subslide"
    }
   },
   "source": [
    "### The game board\n",
    "\n",
    "![risk.png](img/risk.png)"
   ]
  },
  {
   "cell_type": "markdown",
   "metadata": {
    "slideshow": {
     "slide_type": "subslide"
    }
   },
   "source": [
    "### Assignment of territories\n",
    "\n",
    "![risk.png](img/starting.png)"
   ]
  },
  {
   "cell_type": "markdown",
   "metadata": {
    "slideshow": {
     "slide_type": "subslide"
    }
   },
   "source": [
    "### Placing armies\n",
    "\n",
    "![risk.png](img/initial.png)"
   ]
  },
  {
   "cell_type": "markdown",
   "metadata": {
    "slideshow": {
     "slide_type": "subslide"
    }
   },
   "source": [
    "### A turn consists of three stages:\n",
    "\n",
    "- __Reinforcement__\n",
    "- __Combat__\n",
    "- __Fortification__"
   ]
  },
  {
   "cell_type": "markdown",
   "metadata": {
    "slideshow": {
     "slide_type": "subslide"
    }
   },
   "source": [
    "- __Reinforcement:__ the player places additional armies:\n",
    "  - one army per three territories,\n",
    "  - bonus armies for owning a full continent,\n",
    "  - additional bonus for a set of _reinforcement cards_."
   ]
  },
  {
   "cell_type": "markdown",
   "metadata": {
    "slideshow": {
     "slide_type": "subslide"
    }
   },
   "source": [
    "- __Combat:__ the player may attack neighboring territories:\n",
    "  - the battle is decided using dice,\n",
    "  - the attacker has a good chance to win if he has more armies,\n",
    "  - if the attacker conquers a territory he gets a reinforcement card,\n",
    "  - the player may attack indefinitely."
   ]
  },
  {
   "cell_type": "markdown",
   "metadata": {
    "slideshow": {
     "slide_type": "subslide"
    }
   },
   "source": [
    "- __Fortification:__ the player may move armies:\n",
    "  - may make only _one_ fortification move,\n",
    "  - from one territory to a neighboring territory,\n",
    "  - with as many armies as he likes."
   ]
  },
  {
   "cell_type": "markdown",
   "metadata": {
    "slideshow": {
     "slide_type": "subslide"
    }
   },
   "source": [
    "### Missions\n",
    "\n",
    "Each player is assigned a mission. By completing the mission the player wins the game.    \n",
    "\n",
    "Missions are, for example:\n",
    "- Conquer africa and north america\n",
    "- Destroy the yellow player\n",
    "- Conquer at least 24 territories\n",
    "- ...\n",
    "\n"
   ]
  },
  {
   "cell_type": "markdown",
   "metadata": {
    "slideshow": {
     "slide_type": "slide"
    }
   },
   "source": [
    "# Risk in Python\n",
    "\n",
    "We built a framework that handles all aspects of the Risk game. It consists of five classes:\n",
    "\n",
    "- `Board`, which handles the armies on the game board,\n",
    "- `Cards`, which handles the reinforcement cards of a player,\n",
    "- `Mission`, which describes the mission of a player,\n",
    "- `Player`, which makes decisions on how to play, and\n",
    "- `Game`, which handles all other aspects of the game."
   ]
  },
  {
   "cell_type": "markdown",
   "metadata": {},
   "source": [
    "## Setup"
   ]
  },
  {
   "cell_type": "code",
   "execution_count": null,
   "metadata": {},
   "outputs": [],
   "source": [
    "# check for colab\n",
    "if \"google.colab\" in str(get_ipython()):\n",
    "  # install colab dependencies\n",
    "  !pip install git+https://github.com/DiogenesAnalytics/risk"
   ]
  },
  {
   "cell_type": "markdown",
   "metadata": {
    "slideshow": {
     "slide_type": "subslide"
    }
   },
   "source": [
    "### The Board\n",
    "\n",
    "When initialized, the board randomly distributes the territories amongst the players."
   ]
  },
  {
   "cell_type": "code",
   "execution_count": null,
   "metadata": {
    "slideshow": {
     "slide_type": "skip"
    }
   },
   "outputs": [],
   "source": [
    "import random\n",
    "random.seed(42)"
   ]
  },
  {
   "cell_type": "code",
   "execution_count": null,
   "metadata": {
    "collapsed": false,
    "jupyter": {
     "outputs_hidden": false
    }
   },
   "outputs": [],
   "source": [
    "from risk.board import Board\n",
    "b = Board.create(n_players=4)"
   ]
  },
  {
   "cell_type": "markdown",
   "metadata": {
    "slideshow": {
     "slide_type": "subslide"
    }
   },
   "source": [
    "We can get a graphical representation of the board using `plot_board()`:"
   ]
  },
  {
   "cell_type": "code",
   "execution_count": null,
   "metadata": {
    "collapsed": false,
    "jupyter": {
     "outputs_hidden": false
    }
   },
   "outputs": [],
   "source": [
    "b.plot_board()"
   ]
  },
  {
   "cell_type": "markdown",
   "metadata": {
    "slideshow": {
     "slide_type": "subslide"
    }
   },
   "source": [
    "We can easily manipulate the armies on the board:"
   ]
  },
  {
   "cell_type": "code",
   "execution_count": null,
   "metadata": {
    "collapsed": false,
    "jupyter": {
     "outputs_hidden": false
    }
   },
   "outputs": [],
   "source": [
    "b.set_owner(territory_id=0, player_id=5)\n",
    "b.set_armies(territory_id=0, n=15)\n",
    "b.plot_board()"
   ]
  },
  {
   "cell_type": "markdown",
   "metadata": {
    "slideshow": {
     "slide_type": "subslide"
    }
   },
   "source": [
    "The board is aware of the layout of the territories:"
   ]
  },
  {
   "cell_type": "code",
   "execution_count": null,
   "metadata": {
    "collapsed": false,
    "jupyter": {
     "outputs_hidden": false
    }
   },
   "outputs": [],
   "source": [
    "for territory_id, player_id, armies in b.neighbors(territory_id=0):\n",
    "    print('Territory', territory_id, 'owned by player', player_id, 'is occupied by', armies, 'armies')"
   ]
  },
  {
   "cell_type": "markdown",
   "metadata": {
    "slideshow": {
     "slide_type": "subslide"
    }
   },
   "source": [
    "And can handle attack moves:"
   ]
  },
  {
   "cell_type": "code",
   "execution_count": null,
   "metadata": {
    "collapsed": false,
    "jupyter": {
     "outputs_hidden": false
    }
   },
   "outputs": [],
   "source": [
    "b.attack(from_territory=0, to_territory=21, attackers=3)\n",
    "b.plot_board()"
   ]
  },
  {
   "cell_type": "markdown",
   "metadata": {
    "slideshow": {
     "slide_type": "slide"
    }
   },
   "source": [
    "### Missions\n",
    "\n",
    "We can get all available missions using the `missions` function:"
   ]
  },
  {
   "cell_type": "code",
   "execution_count": null,
   "metadata": {
    "collapsed": false,
    "jupyter": {
     "outputs_hidden": false
    }
   },
   "outputs": [],
   "source": [
    "from risk.missions import missions\n",
    "all_missions = missions(n_players=4)\n",
    "\n",
    "for m in all_missions:\n",
    "    print(m.description)"
   ]
  },
  {
   "cell_type": "markdown",
   "metadata": {
    "slideshow": {
     "slide_type": "subslide"
    }
   },
   "source": [
    "Each mission is aware of the player it is assigned to:"
   ]
  },
  {
   "cell_type": "code",
   "execution_count": null,
   "metadata": {
    "collapsed": false,
    "jupyter": {
     "outputs_hidden": false
    }
   },
   "outputs": [],
   "source": [
    "mission = all_missions[0]\n",
    "mission"
   ]
  },
  {
   "cell_type": "code",
   "execution_count": null,
   "metadata": {
    "collapsed": false,
    "jupyter": {
     "outputs_hidden": false
    }
   },
   "outputs": [],
   "source": [
    "mission.assign_to(player_id=0)\n",
    "mission"
   ]
  },
  {
   "cell_type": "markdown",
   "metadata": {
    "slideshow": {
     "slide_type": "fragment"
    }
   },
   "source": [
    "...and can evaluate whether the mission has been achieved yet:"
   ]
  },
  {
   "cell_type": "code",
   "execution_count": null,
   "metadata": {
    "collapsed": false,
    "jupyter": {
     "outputs_hidden": false
    }
   },
   "outputs": [],
   "source": [
    "mission.evaluate(board=b)"
   ]
  },
  {
   "cell_type": "markdown",
   "metadata": {
    "slideshow": {
     "slide_type": "subslide"
    }
   },
   "source": [
    "There is a special case when a player's mission is to kill himself:"
   ]
  },
  {
   "cell_type": "code",
   "execution_count": null,
   "metadata": {
    "collapsed": false,
    "jupyter": {
     "outputs_hidden": false
    },
    "slideshow": {
     "slide_type": "-"
    }
   },
   "outputs": [],
   "source": [
    "mission = all_missions[-1]\n",
    "mission"
   ]
  },
  {
   "cell_type": "code",
   "execution_count": null,
   "metadata": {
    "collapsed": false,
    "jupyter": {
     "outputs_hidden": false
    }
   },
   "outputs": [],
   "source": [
    "mission.assign_to(player_id=3)\n",
    "mission"
   ]
  },
  {
   "cell_type": "markdown",
   "metadata": {
    "slideshow": {
     "slide_type": "slide"
    }
   },
   "source": [
    "### Players\n",
    "\n",
    "A player object is required to have four methods:\n",
    "\n",
    "- `reinforce()`, \n",
    "- `attack()`,\n",
    "- `fortify()`,\n",
    "- `turn_in_cards()`"
   ]
  },
  {
   "cell_type": "markdown",
   "metadata": {
    "slideshow": {
     "slide_type": "slide"
    }
   },
   "source": [
    "## Playing a game\n",
    "\n",
    "Let's go through a whole game. \n",
    "\n",
    "We'll use four `RandomPlayer`s, which take a random decision at every step of their turn.\n"
   ]
  },
  {
   "cell_type": "code",
   "execution_count": null,
   "metadata": {
    "slideshow": {
     "slide_type": "skip"
    }
   },
   "outputs": [],
   "source": [
    "random.seed(42)"
   ]
  },
  {
   "cell_type": "code",
   "execution_count": null,
   "metadata": {
    "collapsed": false,
    "jupyter": {
     "outputs_hidden": false
    },
    "slideshow": {
     "slide_type": "subslide"
    }
   },
   "outputs": [],
   "source": [
    "from risk import game, player\n",
    "risk_game = game.Game.create([player.RandomPlayer() for i in range(4)])\n",
    "risk_game.plot()"
   ]
  },
  {
   "cell_type": "markdown",
   "metadata": {
    "slideshow": {
     "slide_type": "subslide"
    }
   },
   "source": [
    "Now the players may place armies until they each have 30 armies:"
   ]
  },
  {
   "cell_type": "code",
   "execution_count": null,
   "metadata": {
    "collapsed": false,
    "jupyter": {
     "outputs_hidden": false
    }
   },
   "outputs": [],
   "source": [
    "risk_game.initialize_single_army()\n",
    "risk_game.plot()"
   ]
  },
  {
   "cell_type": "markdown",
   "metadata": {
    "slideshow": {
     "slide_type": "subslide"
    }
   },
   "source": [
    "Calling `initialize_armies()` will have them place _all_ armies:"
   ]
  },
  {
   "cell_type": "code",
   "execution_count": null,
   "metadata": {
    "collapsed": false,
    "jupyter": {
     "outputs_hidden": false
    }
   },
   "outputs": [],
   "source": [
    "risk_game.initialize_armies()\n",
    "risk_game.plot()"
   ]
  },
  {
   "cell_type": "markdown",
   "metadata": {
    "slideshow": {
     "slide_type": "subslide"
    }
   },
   "source": [
    "Now the first player may play his turn."
   ]
  },
  {
   "cell_type": "code",
   "execution_count": null,
   "metadata": {
    "collapsed": false,
    "jupyter": {
     "outputs_hidden": false
    }
   },
   "outputs": [],
   "source": [
    "risk_game.reinforce(risk_game.current_player)\n",
    "risk_game.plot()"
   ]
  },
  {
   "cell_type": "markdown",
   "metadata": {
    "slideshow": {
     "slide_type": "subslide"
    }
   },
   "source": [
    "Then the attack phase:"
   ]
  },
  {
   "cell_type": "code",
   "execution_count": null,
   "metadata": {
    "slideshow": {
     "slide_type": "skip"
    }
   },
   "outputs": [],
   "source": [
    "risk_game.attack(risk_game.current_player)"
   ]
  },
  {
   "cell_type": "code",
   "execution_count": null,
   "metadata": {
    "collapsed": false,
    "jupyter": {
     "outputs_hidden": false
    }
   },
   "outputs": [],
   "source": [
    "risk_game.attack(risk_game.current_player)\n",
    "risk_game.plot()"
   ]
  },
  {
   "cell_type": "markdown",
   "metadata": {
    "slideshow": {
     "slide_type": "subslide"
    }
   },
   "source": [
    "And finally the fortification phase:"
   ]
  },
  {
   "cell_type": "code",
   "execution_count": null,
   "metadata": {
    "collapsed": false,
    "jupyter": {
     "outputs_hidden": false
    }
   },
   "outputs": [],
   "source": [
    "risk_game.fortify(risk_game.current_player)\n",
    "risk_game.next_turn()\n",
    "risk_game.plot()"
   ]
  },
  {
   "cell_type": "markdown",
   "metadata": {
    "slideshow": {
     "slide_type": "subslide"
    }
   },
   "source": [
    "We can do this more quickly by using the `play_turn()` method:"
   ]
  },
  {
   "cell_type": "code",
   "execution_count": null,
   "metadata": {
    "collapsed": false,
    "jupyter": {
     "outputs_hidden": false
    },
    "slideshow": {
     "slide_type": "-"
    }
   },
   "outputs": [],
   "source": [
    "risk_game.play_turn()\n",
    "risk_game.plot()"
   ]
  },
  {
   "cell_type": "markdown",
   "metadata": {
    "slideshow": {
     "slide_type": "subslide"
    }
   },
   "source": [
    "Now let's fast-forward 10 turns:"
   ]
  },
  {
   "cell_type": "code",
   "execution_count": null,
   "metadata": {
    "collapsed": false,
    "jupyter": {
     "outputs_hidden": false
    }
   },
   "outputs": [],
   "source": [
    "for i in range(10): \n",
    "    risk_game.play_turn()\n",
    "risk_game.plot()"
   ]
  },
  {
   "cell_type": "markdown",
   "metadata": {
    "slideshow": {
     "slide_type": "subslide"
    }
   },
   "source": [
    "And to the end of the game:"
   ]
  },
  {
   "cell_type": "code",
   "execution_count": null,
   "metadata": {
    "collapsed": false,
    "jupyter": {
     "outputs_hidden": false
    }
   },
   "outputs": [],
   "source": [
    "while not risk_game.has_ended(): \n",
    "    risk_game.play_turn()\n",
    "risk_game.plot()"
   ]
  },
  {
   "cell_type": "markdown",
   "metadata": {
    "collapsed": true,
    "jupyter": {
     "outputs_hidden": true
    },
    "slideshow": {
     "slide_type": "slide"
    }
   },
   "source": [
    "# Genetic Algorithms"
   ]
  },
  {
   "cell_type": "markdown",
   "metadata": {
    "slideshow": {
     "slide_type": "subslide"
    }
   },
   "source": [
    "## What is a _GA_?\n",
    "\n",
    "A machine learning algorithm based on evolution and natural selection."
   ]
  },
  {
   "cell_type": "markdown",
   "metadata": {
    "slideshow": {
     "slide_type": "fragment"
    }
   },
   "source": [
    "## Why a _GA_?\n",
    "\n",
    "Easy to use with little knowledge of the problem.\n",
    "\n",
    "Robust against:\n",
    "- noise\n",
    "- many dimensions"
   ]
  },
  {
   "cell_type": "markdown",
   "metadata": {
    "slideshow": {
     "slide_type": "subslide"
    }
   },
   "source": [
    "## A simple example\n",
    "\n",
    "Imagine we are trying to solve a puzzle.   \n",
    "The solution of the puzzle is a string of 16 bits,    \n",
    "e.g. `0110 0010 1101 0001`.    \n",
    "\n",
    "We can evaluate a candidate solution using a function\n",
    "that returns the number of correct bits.     \n",
    "For example\n",
    "`0110 1101 1000 1010` would yield `7`.\n",
    "\n"
   ]
  },
  {
   "cell_type": "code",
   "execution_count": null,
   "metadata": {
    "slideshow": {
     "slide_type": "skip"
    }
   },
   "outputs": [],
   "source": [
    "import random\n",
    "def random_solution():\n",
    "    return ' '.join([\n",
    "        ''.join(['0' if random.random() < 0.5 else '1' for i in range(4)])\n",
    "        for i in range(4)\n",
    "    ])\n",
    "def compare_solution(y):\n",
    "    x = '0110 0010 1101 0001'\n",
    "    return sum((\n",
    "        1 if u == v and u != ' ' else 0\n",
    "        for u, v in zip(x, y)\n",
    "    ))"
   ]
  },
  {
   "cell_type": "code",
   "execution_count": null,
   "metadata": {
    "collapsed": false,
    "jupyter": {
     "outputs_hidden": false
    },
    "slideshow": {
     "slide_type": "skip"
    }
   },
   "outputs": [],
   "source": [
    "for i in range(6):\n",
    "    rs = random_solution()\n",
    "    print(rs, compare_solution(rs))"
   ]
  },
  {
   "cell_type": "markdown",
   "metadata": {
    "slideshow": {
     "slide_type": "subslide"
    }
   },
   "source": [
    "We can randomly generate a few solutions:\n",
    "\n",
    "- `1110 1010 0010 0101` $\\rightarrow$ 9\n",
    "- `0101 1100 1001 0011` $\\rightarrow$ 9\n",
    "- `1101 1111 0111 1111` $\\rightarrow$ 5\n",
    "- `0110 0101 0010 1010` $\\rightarrow$ 6"
   ]
  },
  {
   "cell_type": "markdown",
   "metadata": {
    "slideshow": {
     "slide_type": "subslide"
    }
   },
   "source": [
    "To get further we can _combine_ the best solutions (the _parents_), \n",
    "\n",
    "- <font face='Courier', color='red'>1110 1010 0010 0101</font> $\\rightarrow$ 9\n",
    "- <font face='Courier', color='blue'>0101 1100 1001 0011</font> $\\rightarrow$ 9\n",
    "\n",
    "by splitting them up and pasting them together to form _children_,\n",
    "\n",
    "- <font face='Courier', color='blue'>0101 1100</font> <font face='Courier', color='red'>0010 0101</font> $\\rightarrow$ 6\n",
    "- <font face='Courier', color='red'>1110 1010</font> <font face='Courier', color='blue'>1001 0011</font> $\\rightarrow$ 12"
   ]
  },
  {
   "cell_type": "markdown",
   "metadata": {
    "slideshow": {
     "slide_type": "subslide"
    }
   },
   "source": [
    "Another way to improve a solution is to randomly _mutate_ one (or more) bits:\n",
    "\n",
    "- `1110 1010 1001 0011` $\\rightarrow$ 12\n",
    "\n",
    "to\n",
    "\n",
    "- `1`__<font face='Courier', color='red'>0</font>__`10 1010 1001 0011` $\\rightarrow$ 11\n",
    "- `1110 1010 1`__<font face='Courier', color='red'>1</font>__`01 0011` $\\rightarrow$ 13\n",
    "- `1110 1010 1001 0`__<font face='Courier', color='red'>1</font>__`11` $\\rightarrow$ 11\n",
    "- `1110 1010 1001 00`__<font face='Courier', color='red'>0</font>__`1` $\\rightarrow$ 13\n"
   ]
  },
  {
   "cell_type": "markdown",
   "metadata": {
    "slideshow": {
     "slide_type": "subslide"
    }
   },
   "source": [
    "We can keep _combining_ and _mutating_ until we have found a satisfactory solution."
   ]
  },
  {
   "cell_type": "markdown",
   "metadata": {
    "slideshow": {
     "slide_type": "subslide"
    }
   },
   "source": [
    "### A _GA_ in short\n",
    "\n",
    "- A (random) initial pool of solutions\n",
    "- An evaluation function\n",
    "- A combine method\n",
    "- A mutate method"
   ]
  },
  {
   "cell_type": "markdown",
   "metadata": {
    "slideshow": {
     "slide_type": "slide"
    }
   },
   "source": [
    "# A _GA_ for Risk"
   ]
  },
  {
   "cell_type": "markdown",
   "metadata": {
    "slideshow": {
     "slide_type": "subslide"
    }
   },
   "source": [
    "### Evaluating a Risk player"
   ]
  },
  {
   "cell_type": "markdown",
   "metadata": {},
   "source": [
    "- <font face='Courier', color='blue'>1110 1010 0010 0101</font> $\\rightarrow$ 9\n",
    "- <font face='Courier', color='blue'>0101 1100 1001 0011</font> $\\rightarrow$ 9\n",
    "- <font face='Courier', color='red'>0101 1100 0010 0101</font> $\\rightarrow$ 6\n",
    "- <font face='Courier', color='green'>1110 1010 1001 0011</font> $\\rightarrow$ 12"
   ]
  },
  {
   "cell_type": "markdown",
   "metadata": {
    "slideshow": {
     "slide_type": "fragment"
    }
   },
   "source": [
    "Suppose we have four risk players, `[p1, p2, p3, p4]`\n",
    "\n",
    "Which is the best?"
   ]
  },
  {
   "cell_type": "markdown",
   "metadata": {
    "slideshow": {
     "slide_type": "subslide"
    }
   },
   "source": [
    "We could have them play a game:\n",
    "\n",
    "`game(p1, p2, p3, p4)` $\\rightarrow$ `p3`"
   ]
  },
  {
   "cell_type": "markdown",
   "metadata": {
    "slideshow": {
     "slide_type": "fragment"
    }
   },
   "source": [
    "And a few more:\n",
    "\n",
    "`game(p1, p2, p3, p4)` $\\rightarrow$ `p1`    \n",
    "`game(p1, p2, p3, p4)` $\\rightarrow$ `p1`    \n",
    "`game(p1, p2, p3, p4)` $\\rightarrow$ `p4`    \n",
    "`game(p1, p2, p3, p4)` $\\rightarrow$ `p1`    \n",
    "`game(p1, p2, p3, p4)` $\\rightarrow$ `p2`    \n",
    "`game(p1, p2, p3, p4)` $\\rightarrow$ `p2`"
   ]
  },
  {
   "cell_type": "markdown",
   "metadata": {
    "slideshow": {
     "slide_type": "subslide"
    }
   },
   "source": [
    "What if we have 8 players?\n",
    "\n",
    "`[p1, p2, ..., p7, p8]`"
   ]
  },
  {
   "cell_type": "markdown",
   "metadata": {
    "slideshow": {
     "slide_type": "fragment"
    }
   },
   "source": [
    "`game(p1, p2, p3, p4)` $\\rightarrow$ `p1`  \n",
    "`game(p5, p6, p7, p8)` $\\rightarrow$ `p7`\n",
    "\n",
    "Is `p1` better than `p5`?"
   ]
  },
  {
   "cell_type": "markdown",
   "metadata": {
    "slideshow": {
     "slide_type": "fragment"
    }
   },
   "source": [
    "We could play games with all combinations:\n",
    "\n",
    "`game(p1, p2, p3, p4)`    \n",
    "`game(p1, p2, p3, p5)`    \n",
    "...    \n",
    "`game(p5, p6, p7, p8)`"
   ]
  },
  {
   "cell_type": "markdown",
   "metadata": {
    "slideshow": {
     "slide_type": "notes"
    }
   },
   "source": [
    "70"
   ]
  },
  {
   "cell_type": "markdown",
   "metadata": {
    "slideshow": {
     "slide_type": "subslide"
    }
   },
   "source": [
    "Now what if we have 100 players?\n",
    "\n",
    "`[p1, p2, ..., p99, p100]`\n",
    "\n",
    "Playing a single game in every combination would require millions of games."
   ]
  },
  {
   "cell_type": "markdown",
   "metadata": {
    "slideshow": {
     "slide_type": "slide"
    }
   },
   "source": [
    "## Trueskill\n",
    "\n",
    "> TrueSkill is a Bayesian ranking algorithm developed by Microsoft Research"
   ]
  },
  {
   "cell_type": "markdown",
   "metadata": {
    "slideshow": {
     "slide_type": "subslide"
    }
   },
   "source": [
    "### The prior: two _new_ players\n",
    "\n",
    "![trueskill](./img/ts1.1.png)\n",
    "\n",
    "_source:_ Vincent Warmerdam - [koaning.io](koaning.io)"
   ]
  },
  {
   "cell_type": "markdown",
   "metadata": {
    "slideshow": {
     "slide_type": "subslide"
    }
   },
   "source": [
    "### Posterior: player 1 wins\n",
    "\n",
    "![trueskill](./img/ts1.2.png)"
   ]
  },
  {
   "cell_type": "markdown",
   "metadata": {
    "slideshow": {
     "slide_type": "subslide"
    }
   },
   "source": [
    "### Posterior: player 2 wins\n",
    "\n",
    "![trueskill](./img/ts1.3.png)"
   ]
  },
  {
   "cell_type": "markdown",
   "metadata": {
    "slideshow": {
     "slide_type": "subslide"
    }
   },
   "source": [
    "### Prior: player 1 is _very_ good. Player 2 is new\n",
    "\n",
    "![trueskill](./img/ts2.1.png)"
   ]
  },
  {
   "cell_type": "markdown",
   "metadata": {
    "slideshow": {
     "slide_type": "subslide"
    }
   },
   "source": [
    "### Posterior: player 1 wins\n",
    "\n",
    "![trueskill](./img/ts2.1.png)"
   ]
  },
  {
   "cell_type": "markdown",
   "metadata": {
    "slideshow": {
     "slide_type": "subslide"
    }
   },
   "source": [
    "### Posterior: player 2 wins\n",
    "\n",
    "![trueskill](./img/ts2.3.png)"
   ]
  },
  {
   "cell_type": "markdown",
   "metadata": {
    "slideshow": {
     "slide_type": "subslide"
    }
   },
   "source": [
    "An implementation is readily available:"
   ]
  },
  {
   "cell_type": "code",
   "execution_count": null,
   "metadata": {
    "collapsed": false,
    "jupyter": {
     "outputs_hidden": false
    }
   },
   "outputs": [],
   "source": [
    "import trueskill"
   ]
  },
  {
   "cell_type": "markdown",
   "metadata": {
    "slideshow": {
     "slide_type": "subslide"
    }
   },
   "source": [
    "### Using Trueskill\n",
    "\n",
    "Every new player gets a default score of 25:"
   ]
  },
  {
   "cell_type": "code",
   "execution_count": null,
   "metadata": {
    "collapsed": false,
    "jupyter": {
     "outputs_hidden": false
    }
   },
   "outputs": [],
   "source": [
    "a = trueskill.Rating()\n",
    "b = trueskill.Rating()\n",
    "print(a)\n",
    "print(b)"
   ]
  },
  {
   "cell_type": "markdown",
   "metadata": {
    "slideshow": {
     "slide_type": "subslide"
    }
   },
   "source": [
    "After a game we can calculate the new ratings:"
   ]
  },
  {
   "cell_type": "code",
   "execution_count": null,
   "metadata": {
    "collapsed": false,
    "jupyter": {
     "outputs_hidden": false
    },
    "slideshow": {
     "slide_type": "-"
    }
   },
   "outputs": [],
   "source": [
    "print('Before:', [(a, ), (b, )])\n",
    "print('After: ', trueskill.rate(rating_groups=[[a], [b]], ranks=[1, 2]))"
   ]
  },
  {
   "cell_type": "code",
   "execution_count": null,
   "metadata": {
    "collapsed": false,
    "jupyter": {
     "outputs_hidden": false
    },
    "slideshow": {
     "slide_type": "skip"
    }
   },
   "outputs": [],
   "source": [
    "(a, ), (b, ) = trueskill.rate(rating_groups=[[a], [b]], ranks=[1, 2])"
   ]
  },
  {
   "cell_type": "code",
   "execution_count": null,
   "metadata": {
    "collapsed": false,
    "jupyter": {
     "outputs_hidden": false
    },
    "slideshow": {
     "slide_type": "fragment"
    }
   },
   "outputs": [],
   "source": [
    "print('Before:', [(a, ), (b, )])\n",
    "print('A wins:', trueskill.rate(rating_groups=[[a], [b]], ranks=[1, 2]))"
   ]
  },
  {
   "cell_type": "code",
   "execution_count": null,
   "metadata": {
    "collapsed": false,
    "jupyter": {
     "outputs_hidden": false
    },
    "slideshow": {
     "slide_type": "fragment"
    }
   },
   "outputs": [],
   "source": [
    "print('B wins:', trueskill.rate(rating_groups=[[a], [b]], ranks=[2, 1]))"
   ]
  },
  {
   "cell_type": "markdown",
   "metadata": {
    "slideshow": {
     "slide_type": "subslide"
    }
   },
   "source": [
    "Trueskill also handles multiple players in a tie:"
   ]
  },
  {
   "cell_type": "code",
   "execution_count": null,
   "metadata": {
    "slideshow": {
     "slide_type": "skip"
    }
   },
   "outputs": [],
   "source": [
    "a = trueskill.Rating()\n",
    "b = trueskill.Rating()\n",
    "c = trueskill.Rating()\n",
    "d = trueskill.Rating()"
   ]
  },
  {
   "cell_type": "code",
   "execution_count": null,
   "metadata": {
    "collapsed": false,
    "jupyter": {
     "outputs_hidden": false
    },
    "slideshow": {
     "slide_type": "-"
    }
   },
   "outputs": [],
   "source": [
    "trueskill.rate(rating_groups=[[a], [b, c, d]], ranks=[1, 2])"
   ]
  },
  {
   "cell_type": "markdown",
   "metadata": {
    "collapsed": true,
    "jupyter": {
     "outputs_hidden": true
    },
    "slideshow": {
     "slide_type": "slide"
    }
   },
   "source": [
    "## A Genetic Risk player\n",
    "\n",
    "As said before, a player needs to implement:\n",
    "\n",
    "- `reinforce()`, \n",
    "- `attack()`,\n",
    "- `fortify()`,\n",
    "- `turn_in_cards()`"
   ]
  },
  {
   "cell_type": "markdown",
   "metadata": {
    "slideshow": {
     "slide_type": "subslide"
    }
   },
   "source": [
    "### How to pick a move?\n",
    "\n",
    "1. Create a list of all possible moves.\n",
    "2. Rank the moves based on predefined criteria.\n",
    "3. Pick the top-ranked move."
   ]
  },
  {
   "cell_type": "markdown",
   "metadata": {
    "slideshow": {
     "slide_type": "subslide"
    }
   },
   "source": [
    "### An example: _Placing a reinforcement._\n",
    "\n",
    "Let's define:\n",
    "- $\\text{territory ratio} \\equiv (n_{hostile}) / (n_{hostile} + n_{own})$\n",
    "- $\\text{mission}$: relevance of territory for mission\n",
    "- ..."
   ]
  },
  {
   "cell_type": "markdown",
   "metadata": {
    "slideshow": {
     "slide_type": "fragment"
    }
   },
   "source": [
    "$$\\begin{array}{ccc}\n",
    "territory & territory\\_ratio & mission \\\\\n",
    "10 & 0.0 & 1 \\\\\n",
    "18 & 0.6 & 1 \\\\\n",
    "24 & 0.0 & 1 \\\\\n",
    "33 & 0.5 & 0 \\\\\n",
    "40 & 0.3 & 0 \\\\\n",
    "42 & 0.2 & 1 \\end{array}$$"
   ]
  },
  {
   "cell_type": "markdown",
   "metadata": {
    "slideshow": {
     "slide_type": "subslide"
    }
   },
   "source": [
    "### Define a _reinforcement rank_\n",
    "\n",
    "$$\\text{reinforcement rank} \\equiv territory\\_ratio \\cdot w_{territory\\_ratio} + {mission} \\cdot w_\\text{mission}.$$\n",
    "\n"
   ]
  },
  {
   "cell_type": "markdown",
   "metadata": {
    "slideshow": {
     "slide_type": "fragment"
    }
   },
   "source": [
    "Let's say $w_{territory\\_ratio} = 1$ and $w_{mission} = 2$, then\n",
    "\n",
    "$$\\begin{array}{cccc}\n",
    "{territory} & {territory\\_ratio} & {mission} & {rank} \\\\\n",
    "10 & 0.0 & 1 & 2.0 \\\\\n",
    "18 & 0.6 & 1 & 2.6\\\\\n",
    "24 & 0.0 & 1 & 2.0\\\\\n",
    "33 & 0.5 & 0 & 0.5 \\\\\n",
    "40 & 0.3 & 0 & 0.3 \\\\\n",
    "42 & 0.2 & 1 & 2.2 \\end{array}$$"
   ]
  },
  {
   "cell_type": "markdown",
   "metadata": {
    "slideshow": {
     "slide_type": "fragment"
    }
   },
   "source": [
    "So we pick territory 18."
   ]
  },
  {
   "cell_type": "markdown",
   "metadata": {
    "slideshow": {
     "slide_type": "subslide"
    }
   },
   "source": [
    "### How to pick the weights?\n",
    "\n",
    "__Using a GA!__\n",
    "\n",
    "- Initialize players with random weights.\n",
    "- Play many games\n",
    "- Drop the bad players \n",
    "- Combine and mutate to create new players\n",
    "- Repeat"
   ]
  },
  {
   "cell_type": "markdown",
   "metadata": {
    "slideshow": {
     "slide_type": "subslide"
    }
   },
   "source": [
    "### Territory ratio\n",
    "\n",
    "![territory vantage](./img/tvantage_wgt.png)"
   ]
  },
  {
   "cell_type": "markdown",
   "metadata": {
    "slideshow": {
     "slide_type": "fragment"
    }
   },
   "source": [
    "So why ~15? What is it normalized to?"
   ]
  },
  {
   "cell_type": "markdown",
   "metadata": {
    "slideshow": {
     "slide_type": "subslide"
    }
   },
   "source": [
    "### Mission weight\n",
    "\n",
    "![mission weight](./img/re_mission_wgt.png)"
   ]
  },
  {
   "cell_type": "markdown",
   "metadata": {
    "slideshow": {
     "slide_type": "fragment"
    }
   },
   "source": [
    "__Conclusion:__ territory ratio is ~15 times more important than the mission!"
   ]
  },
  {
   "cell_type": "markdown",
   "metadata": {
    "slideshow": {
     "slide_type": "subslide"
    }
   },
   "source": [
    "### All reinforcement factors\n",
    "\n",
    "1. _Direct bonus_: bonus reinforcements from a complete continent.\n",
    "2. _Indirect bonus_: fraction of continent owned $\\times$ bonus reinforcements.\n",
    "3. _Mission_: value for mission (depends on mission).\n",
    "4. _Army vantage_: hostile armies / (hostile armies + own armies).\n",
    "5. _Territory vantage_: hostile neighbors / total neighbors."
   ]
  },
  {
   "cell_type": "markdown",
   "metadata": {
    "slideshow": {
     "slide_type": "subslide"
    }
   },
   "source": [
    "### Army vantage\n",
    "\n",
    "![army vantage](./img/avantage_wgt.png)"
   ]
  },
  {
   "cell_type": "markdown",
   "metadata": {
    "slideshow": {
     "slide_type": "subslide"
    }
   },
   "source": [
    "### Direct bonus\n",
    "\n",
    "![direct bonus](./img/dbonus_wgt.png)"
   ]
  },
  {
   "cell_type": "markdown",
   "metadata": {
    "slideshow": {
     "slide_type": "subslide"
    }
   },
   "source": [
    "### All weights\n",
    "\n",
    "![all_weights](./img/all_weights.png)"
   ]
  },
  {
   "cell_type": "markdown",
   "metadata": {
    "collapsed": true,
    "jupyter": {
     "outputs_hidden": true
    },
    "slideshow": {
     "slide_type": "slide"
    }
   },
   "source": [
    "## So... are we done?"
   ]
  },
  {
   "cell_type": "markdown",
   "metadata": {
    "slideshow": {
     "slide_type": "subslide"
    }
   },
   "source": [
    "# <center>No</center>"
   ]
  },
  {
   "cell_type": "markdown",
   "metadata": {
    "slideshow": {
     "slide_type": "subslide"
    }
   },
   "source": [
    "![all_weights](./img/all_weights.png)"
   ]
  },
  {
   "cell_type": "markdown",
   "metadata": {
    "slideshow": {
     "slide_type": "subslide"
    }
   },
   "source": [
    "### Also:\n",
    "\n",
    "- We only allow linear combinations"
   ]
  },
  {
   "cell_type": "markdown",
   "metadata": {
    "slideshow": {
     "slide_type": "fragment"
    }
   },
   "source": [
    "- Players do not look ahead"
   ]
  },
  {
   "cell_type": "markdown",
   "metadata": {},
   "source": [
    "- Players do not adapt to opponents"
   ]
  },
  {
   "cell_type": "markdown",
   "metadata": {
    "slideshow": {
     "slide_type": "slide"
    }
   },
   "source": [
    "## Conclusion\n",
    "\n",
    "- Play Risk in python\n",
    "\n",
    "- Genetic representation of a Risk player\n",
    "\n",
    "- Used a genetic algorithm to find better players    \n",
    "\n",
    "See our blog: [blog.godatadriven.com/risk-analysis](https://blog.godatadriven.com/risk-analysis)    "
   ]
  }
 ],
 "metadata": {
  "celltoolbar": "Slideshow",
  "kernelspec": {
   "display_name": "Python 3 (ipykernel)",
   "language": "python",
   "name": "python3"
  },
  "language_info": {
   "codemirror_mode": {
    "name": "ipython",
    "version": 3
   },
   "file_extension": ".py",
   "mimetype": "text/x-python",
   "name": "python",
   "nbconvert_exporter": "python",
   "pygments_lexer": "ipython3",
   "version": "3.11.7"
  }
 },
 "nbformat": 4,
 "nbformat_minor": 4
}
